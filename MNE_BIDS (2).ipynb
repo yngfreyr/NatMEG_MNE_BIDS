{
 "cells": [
  {
   "cell_type": "code",
   "execution_count": 13,
   "metadata": {},
   "outputs": [],
   "source": [
    "%matplotlib inline"
   ]
  },
  {
   "cell_type": "markdown",
   "metadata": {},
   "source": [
    "\n",
    ".. currentmodule:: mne_bids\n",
    "\n",
    "\n",
    "# Convert MEG data to BIDS format\n",
    "\n",
    "In this notebook you will use MNE-BIDS to organize MEG data according\n",
    "to the BIDS standard."
   ]
  },
  {
   "cell_type": "code",
   "execution_count": null,
   "metadata": {},
   "outputs": [],
   "source": []
  },
  {
   "cell_type": "code",
   "execution_count": null,
   "metadata": {},
   "outputs": [],
   "source": [
    "# Notebook is based on tutorial:\n",
    "# https://mne.tools/mne-bids/stable/auto_examples/convert_mne_sample.html\n",
    "# Authors: Mainak Jas <mainak.jas@telecom-paristech.fr>\n",
    "#          Alexandre Gramfort <alexandre.gramfort@telecom-paristech.fr>\n",
    "#          Teon Brooks <teon.brooks@gmail.com>\n",
    "#          Stefan Appelhoff <stefan.appelhoff@mailbox.org>\n",
    "#          Richard Höchenberger <richard.hoechenberger@gmail.com>\n",
    "#\n",
    "# License: BSD-3-Clause"
   ]
  },
  {
   "cell_type": "code",
   "execution_count": 14,
   "metadata": {},
   "outputs": [
    {
     "ename": "SyntaxError",
     "evalue": "invalid syntax (2033764989.py, line 2)",
     "output_type": "error",
     "traceback": [
      "\u001b[0;36m  File \u001b[0;32m\"/var/folders/8j/2w7rdjlj5sg59_1hy83zsg3c0000gn/T/ipykernel_1335/2033764989.py\"\u001b[0;36m, line \u001b[0;32m2\u001b[0m\n\u001b[0;31m    pip install mne\u001b[0m\n\u001b[0m        ^\u001b[0m\n\u001b[0;31mSyntaxError\u001b[0m\u001b[0;31m:\u001b[0m invalid syntax\n"
     ]
    }
   ],
   "source": [
    "#Install MNE package\n",
    "pip install mne"
   ]
  },
  {
   "cell_type": "code",
   "execution_count": null,
   "metadata": {},
   "outputs": [
    {
     "name": "stdout",
     "output_type": "stream",
     "text": [
      "Requirement already satisfied: mne in /Users/yngvifrey/opt/anaconda3/lib/python3.9/site-packages (1.4.2)\n",
      "Requirement already satisfied: mne-bids in /Users/yngvifrey/opt/anaconda3/lib/python3.9/site-packages (0.12)\n",
      "Requirement already satisfied: packaging in /Users/yngvifrey/opt/anaconda3/lib/python3.9/site-packages (from mne) (21.3)\n",
      "Requirement already satisfied: jinja2 in /Users/yngvifrey/opt/anaconda3/lib/python3.9/site-packages (from mne) (2.11.3)\n",
      "Requirement already satisfied: decorator in /Users/yngvifrey/opt/anaconda3/lib/python3.9/site-packages (from mne) (5.1.1)\n",
      "Requirement already satisfied: scipy>=1.6.3 in /Users/yngvifrey/opt/anaconda3/lib/python3.9/site-packages (from mne) (1.9.1)\n",
      "Requirement already satisfied: pooch>=1.5 in /Users/yngvifrey/opt/anaconda3/lib/python3.9/site-packages (from mne) (1.7.0)\n",
      "Requirement already satisfied: tqdm in /Users/yngvifrey/opt/anaconda3/lib/python3.9/site-packages (from mne) (4.64.1)\n",
      "Requirement already satisfied: numpy>=1.15.4 in /Users/yngvifrey/opt/anaconda3/lib/python3.9/site-packages (from mne) (1.21.5)\n",
      "Requirement already satisfied: matplotlib>=3.4.0 in /Users/yngvifrey/opt/anaconda3/lib/python3.9/site-packages (from mne) (3.5.2)\n",
      "Requirement already satisfied: setuptools in /Users/yngvifrey/opt/anaconda3/lib/python3.9/site-packages (from mne-bids) (63.4.1)\n",
      "Requirement already satisfied: pillow>=6.2.0 in /Users/yngvifrey/opt/anaconda3/lib/python3.9/site-packages (from matplotlib>=3.4.0->mne) (9.2.0)\n",
      "Requirement already satisfied: fonttools>=4.22.0 in /Users/yngvifrey/opt/anaconda3/lib/python3.9/site-packages (from matplotlib>=3.4.0->mne) (4.25.0)\n",
      "Requirement already satisfied: cycler>=0.10 in /Users/yngvifrey/opt/anaconda3/lib/python3.9/site-packages (from matplotlib>=3.4.0->mne) (0.11.0)\n",
      "Requirement already satisfied: pyparsing>=2.2.1 in /Users/yngvifrey/opt/anaconda3/lib/python3.9/site-packages (from matplotlib>=3.4.0->mne) (3.0.9)\n",
      "Requirement already satisfied: kiwisolver>=1.0.1 in /Users/yngvifrey/opt/anaconda3/lib/python3.9/site-packages (from matplotlib>=3.4.0->mne) (1.4.2)\n",
      "Requirement already satisfied: python-dateutil>=2.7 in /Users/yngvifrey/opt/anaconda3/lib/python3.9/site-packages (from matplotlib>=3.4.0->mne) (2.8.2)\n",
      "Requirement already satisfied: platformdirs>=2.5.0 in /Users/yngvifrey/opt/anaconda3/lib/python3.9/site-packages (from pooch>=1.5->mne) (2.5.2)\n",
      "Requirement already satisfied: requests>=2.19.0 in /Users/yngvifrey/opt/anaconda3/lib/python3.9/site-packages (from pooch>=1.5->mne) (2.28.1)\n",
      "Requirement already satisfied: MarkupSafe>=0.23 in /Users/yngvifrey/opt/anaconda3/lib/python3.9/site-packages (from jinja2->mne) (2.0.1)\n",
      "Requirement already satisfied: six>=1.5 in /Users/yngvifrey/opt/anaconda3/lib/python3.9/site-packages (from python-dateutil>=2.7->matplotlib>=3.4.0->mne) (1.16.0)\n",
      "Requirement already satisfied: certifi>=2017.4.17 in /Users/yngvifrey/opt/anaconda3/lib/python3.9/site-packages (from requests>=2.19.0->pooch>=1.5->mne) (2022.9.24)\n",
      "Requirement already satisfied: urllib3<1.27,>=1.21.1 in /Users/yngvifrey/opt/anaconda3/lib/python3.9/site-packages (from requests>=2.19.0->pooch>=1.5->mne) (1.26.11)\n",
      "Requirement already satisfied: charset-normalizer<3,>=2 in /Users/yngvifrey/opt/anaconda3/lib/python3.9/site-packages (from requests>=2.19.0->pooch>=1.5->mne) (2.0.4)\n",
      "Requirement already satisfied: idna<4,>=2.5 in /Users/yngvifrey/opt/anaconda3/lib/python3.9/site-packages (from requests>=2.19.0->pooch>=1.5->mne) (3.3)\n",
      "Note: you may need to restart the kernel to use updated packages.\n"
     ]
    }
   ],
   "source": [
    "#Install MNE BIDS package\n",
    "pip install mne mne-bids"
   ]
  },
  {
   "cell_type": "markdown",
   "metadata": {},
   "source": [
    "First we import some basic Python libraries, followed by MNE-Python and its\n",
    "sample data, and then finally the MNE-BIDS functions we need for this example\n",
    "\n"
   ]
  },
  {
   "cell_type": "code",
   "execution_count": 13,
   "metadata": {},
   "outputs": [],
   "source": [
    "import json\n",
    "import os.path as op\n",
    "from pprint import pprint\n",
    "import shutil\n",
    "import numpy\n",
    "\n",
    "import mne\n",
    "from mne.datasets import sample\n",
    "\n",
    "from mne_bids import (write_raw_bids, read_raw_bids, write_meg_calibration,\n",
    "                      write_meg_crosstalk, BIDSPath, print_dir_tree,\n",
    "                      make_dataset_description)\n",
    "from mne_bids.stats import count_events"
   ]
  },
  {
   "cell_type": "markdown",
   "metadata": {},
   "source": [
    "Now we can read the MEG data. We define an `event_id` based on our\n",
    "knowledge of the data, to give meaning to events in the data.\n",
    "\n",
    "With `raw_fname` and `events`, we determine where to get the sample data\n",
    "from. `output_path` determines where we will write the BIDS conversion to.\n",
    "\n"
   ]
  },
  {
   "cell_type": "code",
   "execution_count": 14,
   "metadata": {},
   "outputs": [],
   "source": [
    "data_path ='/Users/yngvifrey/Documents/Data_MEEG/MEEG_data/NatMEG_0177/170424/MEG'\n",
    "\n",
    "\n",
    "raw_fname = op.join(data_path,'tactile_stim_raw_tsss_mc_meg.fif')\n",
    "#er_fname = op.join(data_path, 'MEG', 'sample', 'ernoise_raw.fif')  # empty room\n",
    "#events_fname = op.join(data_path, 'MEG', 'sample', 'sample_audvis_raw-eve.fif')\n"
   ]
  },
  {
   "cell_type": "markdown",
   "metadata": {},
   "source": [
    "If your data does not conform to MNE naming conventions (all raw files should end with raw.fif, raw_sss.fif, raw_tsss.fif, _meg.fif, _eeg.fif, _ieeg.fif, raw.fif.gz, raw_sss.fif.gz, raw_tsss.fif.gz, _meg.fif.gz, _eeg.fif.gz or _ieeg.fif.gz) use following code to load and rename files:"
   ]
  },
  {
   "cell_type": "code",
   "execution_count": 7,
   "metadata": {},
   "outputs": [
    {
     "name": "stdout",
     "output_type": "stream",
     "text": [
      "Opening raw data file /Users/yngvifrey/Documents/Data_MEEG/MEEG_data/NatMEG_0177/170424/MEG/tactile_stim_raw_tsss_mc.fif...\n",
      "    Range : 126000 ... 1195999 =    126.000 ...  1195.999 secs\n",
      "Ready.\n",
      "Opening raw data file /Users/yngvifrey/Documents/Data_MEEG/MEEG_data/NatMEG_0177/170424/MEG/tactile_stim_raw_tsss_mc-1.fif...\n",
      "    Range : 1196000 ... 2265999 =   1196.000 ...  2265.999 secs\n",
      "Ready.\n",
      "Opening raw data file /Users/yngvifrey/Documents/Data_MEEG/MEEG_data/NatMEG_0177/170424/MEG/tactile_stim_raw_tsss_mc-2.fif...\n",
      "    Range : 2266000 ... 3118999 =   2266.000 ...  3118.999 secs\n",
      "Ready.\n"
     ]
    },
    {
     "name": "stderr",
     "output_type": "stream",
     "text": [
      "/var/folders/8j/2w7rdjlj5sg59_1hy83zsg3c0000gn/T/ipykernel_52924/937860091.py:2: RuntimeWarning: This filename (/Users/yngvifrey/Documents/Data_MEEG/MEEG_data/NatMEG_0177/170424/MEG/tactile_stim_raw_tsss_mc.fif) does not conform to MNE naming conventions. All raw files should end with raw.fif, raw_sss.fif, raw_tsss.fif, _meg.fif, _eeg.fif, _ieeg.fif, raw.fif.gz, raw_sss.fif.gz, raw_tsss.fif.gz, _meg.fif.gz, _eeg.fif.gz or _ieeg.fif.gz\n",
      "  raw = mne.io.read_raw(raw_fname)\n"
     ]
    },
    {
     "name": "stdout",
     "output_type": "stream",
     "text": [
      "Writing /Users/yngvifrey/Documents/Data_MEEG/MEEG_data/NatMEG_0177/170424/MEG/tactile_stim_raw_tsss_mc_meg.fif\n",
      "Overwriting existing file.\n",
      "Writing /Users/yngvifrey/Documents/Data_MEEG/MEEG_data/NatMEG_0177/170424/MEG/tactile_stim_raw_tsss_mc_meg-1.fif\n",
      "Overwriting existing file.\n",
      "Writing /Users/yngvifrey/Documents/Data_MEEG/MEEG_data/NatMEG_0177/170424/MEG/tactile_stim_raw_tsss_mc_meg-2.fif\n",
      "Closing /Users/yngvifrey/Documents/Data_MEEG/MEEG_data/NatMEG_0177/170424/MEG/tactile_stim_raw_tsss_mc_meg-2.fif\n",
      "Closing /Users/yngvifrey/Documents/Data_MEEG/MEEG_data/NatMEG_0177/170424/MEG/tactile_stim_raw_tsss_mc_meg-1.fif\n",
      "Closing /Users/yngvifrey/Documents/Data_MEEG/MEEG_data/NatMEG_0177/170424/MEG/tactile_stim_raw_tsss_mc_meg.fif\n",
      "[done]\n"
     ]
    }
   ],
   "source": [
    "# Load the original raw data file\n",
    "#raw = mne.io.read_raw(raw_fname)\n",
    "\n",
    "# Save the raw data to a new file to establish proper filename linkage\n",
    "#new_fname = '/Users/yngvifrey/Documents/Data_MEEG/MEEG_data/NatMEG_0177/170424/MEG/tactile_stim_raw_tsss_mc_meg.fif'\n",
    "#raw.save(new_fname, overwrite=True)"
   ]
  },
  {
   "cell_type": "code",
   "execution_count": 15,
   "metadata": {},
   "outputs": [],
   "source": [
    "output_path = op.join(data_path, 'BIDS')"
   ]
  },
  {
   "cell_type": "markdown",
   "metadata": {},
   "source": [
    "To ensure the output path doesn't contain any leftover files from previous\n",
    "tests and example runs, we simply delete it.\n",
    "\n",
    "<div class=\"alert alert-danger\"><h4>Warning</h4><p>Do not delete directories that may contain important data!</p></div>\n",
    "\n",
    "\n"
   ]
  },
  {
   "cell_type": "code",
   "execution_count": 16,
   "metadata": {},
   "outputs": [],
   "source": [
    "if op.exists(output_path):\n",
    "    shutil.rmtree(output_path)"
   ]
  },
  {
   "cell_type": "markdown",
   "metadata": {},
   "source": [
    "<div class=\"alert alert-info\"><h4>Note</h4><p>``mne-bids`` will try to infer as much information from the data as\n",
    "  possible to then save this data in BIDS-specific \"sidecar\" files. For\n",
    "  example the manufacturer information, which is inferred from the data file\n",
    "  extension. However, sometimes inferring is ambiguous (e.g., if your file\n",
    "  format is non-standard for the manufacturer). In these cases, MNE-BIDS does\n",
    "  *not* guess and you will have to update your BIDS fields manually.</p></div>\n",
    "\n",
    "Based on our path definitions above, we read the raw data file, define\n",
    "a new BIDS name for it, and then run the automatic BIDS conversion for both\n",
    "the experimental data and its associated empty-room recording.\n",
    "\n"
   ]
  },
  {
   "cell_type": "code",
   "execution_count": 19,
   "metadata": {},
   "outputs": [
    {
     "name": "stdout",
     "output_type": "stream",
     "text": [
      "Opening raw data file /Users/yngvifrey/Documents/Data_MEEG/MEEG_data/NatMEG_0177/170424/MEG/tactile_stim_raw_tsss_mc_meg.fif...\n",
      "    Range : 126000 ... 1249999 =    126.000 ...  1249.999 secs\n",
      "Ready.\n",
      "Opening raw data file /Users/yngvifrey/Documents/Data_MEEG/MEEG_data/NatMEG_0177/170424/MEG/tactile_stim_raw_tsss_mc_meg-1.fif...\n",
      "    Range : 1250000 ... 2373999 =   1250.000 ...  2373.999 secs\n",
      "Ready.\n",
      "Opening raw data file /Users/yngvifrey/Documents/Data_MEEG/MEEG_data/NatMEG_0177/170424/MEG/tactile_stim_raw_tsss_mc_meg-2.fif...\n",
      "    Range : 2374000 ... 3118999 =   2374.000 ...  3118.999 secs\n",
      "Ready.\n",
      "Opening raw data file /Users/yngvifrey/Documents/Data_MEEG/MEEG_data/NatMEG_0177/170424/MEG/tactile_stim_raw_tsss_mc_meg.fif...\n",
      "    Range : 126000 ... 1249999 =    126.000 ...  1249.999 secs\n",
      "Ready.\n",
      "Opening raw data file /Users/yngvifrey/Documents/Data_MEEG/MEEG_data/NatMEG_0177/170424/MEG/tactile_stim_raw_tsss_mc_meg-1.fif...\n",
      "    Range : 1250000 ... 2373999 =   1250.000 ...  2373.999 secs\n",
      "Ready.\n",
      "Opening raw data file /Users/yngvifrey/Documents/Data_MEEG/MEEG_data/NatMEG_0177/170424/MEG/tactile_stim_raw_tsss_mc_meg-2.fif...\n",
      "    Range : 2374000 ... 3118999 =   2374.000 ...  3118.999 secs\n",
      "Ready.\n",
      "Writing '/Users/yngvifrey/Documents/Data_MEEG/MEEG_data/NatMEG_0177/170424/MEG/BIDS/README'...\n",
      "Writing '/Users/yngvifrey/Documents/Data_MEEG/MEEG_data/NatMEG_0177/170424/MEG/BIDS/participants.tsv'...\n",
      "Writing '/Users/yngvifrey/Documents/Data_MEEG/MEEG_data/NatMEG_0177/170424/MEG/BIDS/participants.json'...\n",
      "Writing '/Users/yngvifrey/Documents/Data_MEEG/MEEG_data/NatMEG_0177/170424/MEG/BIDS/sub-01/ses-01/meg/sub-01_ses-01_coordsystem.json'...\n",
      "Writing '/Users/yngvifrey/Documents/Data_MEEG/MEEG_data/NatMEG_0177/170424/MEG/BIDS/sub-01/ses-01/meg/sub-01_ses-01_coordsystem.json'...\n",
      "Writing '/Users/yngvifrey/Documents/Data_MEEG/MEEG_data/NatMEG_0177/170424/MEG/BIDS/dataset_description.json'...\n",
      "Using 4 HPI coils: 328 278 228 178 Hz\n",
      "Writing '/Users/yngvifrey/Documents/Data_MEEG/MEEG_data/NatMEG_0177/170424/MEG/BIDS/sub-01/ses-01/meg/sub-01_ses-01_task-face_run-1_meg.json'...\n"
     ]
    },
    {
     "name": "stderr",
     "output_type": "stream",
     "text": [
      "/var/folders/8j/2w7rdjlj5sg59_1hy83zsg3c0000gn/T/ipykernel_2755/3765645909.py:15: RuntimeWarning: No events found or provided. Please add annotations to the raw data, or provide the events and event_id parameters. For resting state data, BIDS recommends naming the task using labels beginning with \"rest\".\n",
      "  write_raw_bids(\n"
     ]
    },
    {
     "ename": "KeyError",
     "evalue": "'chpi'",
     "output_type": "error",
     "traceback": [
      "\u001b[0;31m---------------------------------------------------------------------------\u001b[0m",
      "\u001b[0;31mKeyError\u001b[0m                                  Traceback (most recent call last)",
      "\u001b[0;32m/var/folders/8j/2w7rdjlj5sg59_1hy83zsg3c0000gn/T/ipykernel_2755/3765645909.py\u001b[0m in \u001b[0;36m<module>\u001b[0;34m\u001b[0m\n\u001b[1;32m     13\u001b[0m     \u001b[0mroot\u001b[0m\u001b[0;34m=\u001b[0m\u001b[0moutput_path\u001b[0m\u001b[0;34m\u001b[0m\u001b[0;34m\u001b[0m\u001b[0m\n\u001b[1;32m     14\u001b[0m )\n\u001b[0;32m---> 15\u001b[0;31m write_raw_bids(\n\u001b[0m\u001b[1;32m     16\u001b[0m     \u001b[0mraw\u001b[0m\u001b[0;34m=\u001b[0m\u001b[0mraw\u001b[0m\u001b[0;34m,\u001b[0m\u001b[0;34m\u001b[0m\u001b[0;34m\u001b[0m\u001b[0m\n\u001b[1;32m     17\u001b[0m     \u001b[0mbids_path\u001b[0m\u001b[0;34m=\u001b[0m\u001b[0mbids_path\u001b[0m\u001b[0;34m,\u001b[0m\u001b[0;34m\u001b[0m\u001b[0;34m\u001b[0m\u001b[0m\n",
      "\u001b[0;32m<decorator-gen-636>\u001b[0m in \u001b[0;36mwrite_raw_bids\u001b[0;34m(raw, bids_path, events, event_id, anonymize, format, symlink, empty_room, allow_preload, montage, acpc_aligned, overwrite, events_data, verbose)\u001b[0m\n",
      "\u001b[0;32m~/opt/anaconda3/lib/python3.9/site-packages/mne_bids/write.py\u001b[0m in \u001b[0;36mwrite_raw_bids\u001b[0;34m(***failed resolving arguments***)\u001b[0m\n\u001b[1;32m   1861\u001b[0m                   \u001b[0mfname\u001b[0m\u001b[0;34m=\u001b[0m\u001b[0msidecar_path\u001b[0m\u001b[0;34m.\u001b[0m\u001b[0mfpath\u001b[0m\u001b[0;34m,\u001b[0m \u001b[0mdatatype\u001b[0m\u001b[0;34m=\u001b[0m\u001b[0mbids_path\u001b[0m\u001b[0;34m.\u001b[0m\u001b[0mdatatype\u001b[0m\u001b[0;34m,\u001b[0m\u001b[0;34m\u001b[0m\u001b[0;34m\u001b[0m\u001b[0m\n\u001b[1;32m   1862\u001b[0m                   emptyroom_fname=associated_er_path, overwrite=overwrite)\n\u001b[0;32m-> 1863\u001b[0;31m     \u001b[0m_channels_tsv\u001b[0m\u001b[0;34m(\u001b[0m\u001b[0mraw\u001b[0m\u001b[0;34m,\u001b[0m \u001b[0mchannels_path\u001b[0m\u001b[0;34m.\u001b[0m\u001b[0mfpath\u001b[0m\u001b[0;34m,\u001b[0m \u001b[0moverwrite\u001b[0m\u001b[0;34m)\u001b[0m\u001b[0;34m\u001b[0m\u001b[0;34m\u001b[0m\u001b[0m\n\u001b[0m\u001b[1;32m   1864\u001b[0m \u001b[0;34m\u001b[0m\u001b[0m\n\u001b[1;32m   1865\u001b[0m     \u001b[0;31m# create parent directories if needed\u001b[0m\u001b[0;34m\u001b[0m\u001b[0;34m\u001b[0m\u001b[0m\n",
      "\u001b[0;32m~/opt/anaconda3/lib/python3.9/site-packages/mne_bids/write.py\u001b[0m in \u001b[0;36m_channels_tsv\u001b[0;34m(raw, fname, overwrite)\u001b[0m\n\u001b[1;32m    122\u001b[0m         \u001b[0;32mif\u001b[0m \u001b[0m_channel_type\u001b[0m \u001b[0;32min\u001b[0m \u001b[0mget_specific\u001b[0m\u001b[0;34m:\u001b[0m\u001b[0;34m\u001b[0m\u001b[0;34m\u001b[0m\u001b[0m\n\u001b[1;32m    123\u001b[0m             \u001b[0m_channel_type\u001b[0m \u001b[0;34m=\u001b[0m \u001b[0mcoil_type\u001b[0m\u001b[0;34m(\u001b[0m\u001b[0mraw\u001b[0m\u001b[0;34m.\u001b[0m\u001b[0minfo\u001b[0m\u001b[0;34m,\u001b[0m \u001b[0midx\u001b[0m\u001b[0;34m,\u001b[0m \u001b[0m_channel_type\u001b[0m\u001b[0;34m)\u001b[0m\u001b[0;34m\u001b[0m\u001b[0;34m\u001b[0m\u001b[0m\n\u001b[0;32m--> 124\u001b[0;31m         \u001b[0mch_type\u001b[0m\u001b[0;34m.\u001b[0m\u001b[0mappend\u001b[0m\u001b[0;34m(\u001b[0m\u001b[0mmap_chs\u001b[0m\u001b[0;34m[\u001b[0m\u001b[0m_channel_type\u001b[0m\u001b[0;34m]\u001b[0m\u001b[0;34m)\u001b[0m\u001b[0;34m\u001b[0m\u001b[0;34m\u001b[0m\u001b[0m\n\u001b[0m\u001b[1;32m    125\u001b[0m         \u001b[0mdescription\u001b[0m\u001b[0;34m.\u001b[0m\u001b[0mappend\u001b[0m\u001b[0;34m(\u001b[0m\u001b[0mmap_desc\u001b[0m\u001b[0;34m[\u001b[0m\u001b[0m_channel_type\u001b[0m\u001b[0;34m]\u001b[0m\u001b[0;34m)\u001b[0m\u001b[0;34m\u001b[0m\u001b[0;34m\u001b[0m\u001b[0m\n\u001b[1;32m    126\u001b[0m     \u001b[0mlow_cutoff\u001b[0m\u001b[0;34m,\u001b[0m \u001b[0mhigh_cutoff\u001b[0m \u001b[0;34m=\u001b[0m \u001b[0;34m(\u001b[0m\u001b[0mraw\u001b[0m\u001b[0;34m.\u001b[0m\u001b[0minfo\u001b[0m\u001b[0;34m[\u001b[0m\u001b[0;34m'highpass'\u001b[0m\u001b[0;34m]\u001b[0m\u001b[0;34m,\u001b[0m \u001b[0mraw\u001b[0m\u001b[0;34m.\u001b[0m\u001b[0minfo\u001b[0m\u001b[0;34m[\u001b[0m\u001b[0;34m'lowpass'\u001b[0m\u001b[0;34m]\u001b[0m\u001b[0;34m)\u001b[0m\u001b[0;34m\u001b[0m\u001b[0;34m\u001b[0m\u001b[0m\n",
      "\u001b[0;31mKeyError\u001b[0m: 'chpi'"
     ]
    }
   ],
   "source": [
    "raw = mne.io.read_raw(raw_fname)\n",
    "\n",
    "# specify power line frequency as required by BIDS\n",
    "raw.info['line_freq'] = 60\n",
    "\n",
    "\n",
    "task = 'facerecognition'\n",
    "bids_path = BIDSPath(\n",
    "    subject='01',\n",
    "    session='01',\n",
    "    task='face',\n",
    "    run='1',\n",
    "    root=output_path\n",
    ")\n",
    "write_raw_bids(\n",
    "    raw=raw,\n",
    "    bids_path=bids_path,\n",
    "    overwrite=True\n",
    ")\n"
   ]
  },
  {
   "cell_type": "markdown",
   "metadata": {},
   "source": [
    "Let's pause and check that the information that we've written out to the\n",
    "sidecar files that describe our data is correct.\n",
    "\n"
   ]
  },
  {
   "cell_type": "code",
   "execution_count": 20,
   "metadata": {},
   "outputs": [
    {
     "name": "stdout",
     "output_type": "stream",
     "text": [
      "{\n",
      "    \"TaskName\": \"face\",\n",
      "    \"Manufacturer\": \"Elekta\",\n",
      "    \"PowerLineFrequency\": 60.0,\n",
      "    \"SamplingFrequency\": 1000.0,\n",
      "    \"SoftwareFilters\": {\n",
      "        \"SpatialCompensation\": {\n",
      "            \"GradientOrder\": 0\n",
      "        }\n",
      "    },\n",
      "    \"RecordingDuration\": 2992.999,\n",
      "    \"RecordingType\": \"continuous\",\n",
      "    \"DewarPosition\": \"n/a\",\n",
      "    \"DigitizedLandmarks\": true,\n",
      "    \"DigitizedHeadPoints\": true,\n",
      "    \"MEGChannelCount\": 306,\n",
      "    \"MEGREFChannelCount\": 0,\n",
      "    \"ContinuousHeadLocalization\": false,\n",
      "    \"HeadCoilFrequency\": [],\n",
      "    \"EEGChannelCount\": 128,\n",
      "    \"EOGChannelCount\": 2,\n",
      "    \"ECGChannelCount\": 1,\n",
      "    \"EMGChannelCount\": 0,\n",
      "    \"MiscChannelCount\": 0,\n",
      "    \"TriggerChannelCount\": 18\n",
      "}\n",
      "\n"
     ]
    }
   ],
   "source": [
    "# Get the sidecar ``.json`` file\n",
    "sidecar_json_bids_path = bids_path.copy().update(extension='.json')\n",
    "sidecar_json_content = sidecar_json_bids_path.fpath.read_text(\n",
    "    encoding='utf-8-sig'\n",
    ")\n",
    "print(sidecar_json_content)"
   ]
  },
  {
   "cell_type": "markdown",
   "metadata": {},
   "source": [
    "The sample MEG dataset comes with fine-calibration and crosstalk files that\n",
    "are required when processing Elekta/Neuromag/MEGIN data using MaxFilter®.\n",
    "Let's store these data in appropriate places, too.\n",
    "\n"
   ]
  },
  {
   "cell_type": "code",
   "execution_count": 53,
   "metadata": {},
   "outputs": [
    {
     "ename": "FileNotFoundError",
     "evalue": "File does not exist: \"/Users/yngvifrey/Documents/Data_MEEG/MEEG_data/NatMEG_0177/170424/MEG/SSS/sss_cal_mgh.dat\"",
     "output_type": "error",
     "traceback": [
      "\u001b[0;31m---------------------------------------------------------------------------\u001b[0m",
      "\u001b[0;31mFileNotFoundError\u001b[0m                         Traceback (most recent call last)",
      "\u001b[0;32m/var/folders/8j/2w7rdjlj5sg59_1hy83zsg3c0000gn/T/ipykernel_1335/83576620.py\u001b[0m in \u001b[0;36m<module>\u001b[0;34m\u001b[0m\n\u001b[1;32m      2\u001b[0m \u001b[0mct_fname\u001b[0m \u001b[0;34m=\u001b[0m \u001b[0mop\u001b[0m\u001b[0;34m.\u001b[0m\u001b[0mjoin\u001b[0m\u001b[0;34m(\u001b[0m\u001b[0mdata_path\u001b[0m\u001b[0;34m,\u001b[0m \u001b[0;34m'SSS'\u001b[0m\u001b[0;34m,\u001b[0m \u001b[0;34m'ct_sparse_mgh.fif'\u001b[0m\u001b[0;34m)\u001b[0m\u001b[0;34m\u001b[0m\u001b[0;34m\u001b[0m\u001b[0m\n\u001b[1;32m      3\u001b[0m \u001b[0;34m\u001b[0m\u001b[0m\n\u001b[0;32m----> 4\u001b[0;31m \u001b[0mwrite_meg_calibration\u001b[0m\u001b[0;34m(\u001b[0m\u001b[0mcal_fname\u001b[0m\u001b[0;34m,\u001b[0m \u001b[0mbids_path\u001b[0m\u001b[0;34m)\u001b[0m\u001b[0;34m\u001b[0m\u001b[0;34m\u001b[0m\u001b[0m\n\u001b[0m\u001b[1;32m      5\u001b[0m \u001b[0mwrite_meg_crosstalk\u001b[0m\u001b[0;34m(\u001b[0m\u001b[0mct_fname\u001b[0m\u001b[0;34m,\u001b[0m \u001b[0mbids_path\u001b[0m\u001b[0;34m)\u001b[0m\u001b[0;34m\u001b[0m\u001b[0;34m\u001b[0m\u001b[0m\n",
      "\u001b[0;32m<decorator-gen-639>\u001b[0m in \u001b[0;36mwrite_meg_calibration\u001b[0;34m(calibration, bids_path, verbose)\u001b[0m\n",
      "\u001b[0;32m~/opt/anaconda3/lib/python3.9/site-packages/mne_bids/write.py\u001b[0m in \u001b[0;36mwrite_meg_calibration\u001b[0;34m(calibration, bids_path, verbose)\u001b[0m\n\u001b[1;32m   2435\u001b[0m \u001b[0;34m\u001b[0m\u001b[0m\n\u001b[1;32m   2436\u001b[0m     \u001b[0;32mif\u001b[0m \u001b[0;32mnot\u001b[0m \u001b[0misinstance\u001b[0m\u001b[0;34m(\u001b[0m\u001b[0mcalibration\u001b[0m\u001b[0;34m,\u001b[0m \u001b[0mdict\u001b[0m\u001b[0;34m)\u001b[0m\u001b[0;34m:\u001b[0m\u001b[0;34m\u001b[0m\u001b[0;34m\u001b[0m\u001b[0m\n\u001b[0;32m-> 2437\u001b[0;31m         \u001b[0mcalibration\u001b[0m \u001b[0;34m=\u001b[0m \u001b[0mmne\u001b[0m\u001b[0;34m.\u001b[0m\u001b[0mpreprocessing\u001b[0m\u001b[0;34m.\u001b[0m\u001b[0mread_fine_calibration\u001b[0m\u001b[0;34m(\u001b[0m\u001b[0mcalibration\u001b[0m\u001b[0;34m)\u001b[0m\u001b[0;34m\u001b[0m\u001b[0;34m\u001b[0m\u001b[0m\n\u001b[0m\u001b[1;32m   2438\u001b[0m \u001b[0;34m\u001b[0m\u001b[0m\n\u001b[1;32m   2439\u001b[0m     out_path = BIDSPath(subject=bids_path.subject, session=bids_path.session,\n",
      "\u001b[0;32m~/opt/anaconda3/lib/python3.9/site-packages/mne/preprocessing/_fine_cal.py\u001b[0m in \u001b[0;36mread_fine_calibration\u001b[0;34m(fname)\u001b[0m\n\u001b[1;32m    510\u001b[0m     \"\"\"\n\u001b[1;32m    511\u001b[0m     \u001b[0;31m# Read new sensor locations\u001b[0m\u001b[0;34m\u001b[0m\u001b[0;34m\u001b[0m\u001b[0m\n\u001b[0;32m--> 512\u001b[0;31m     \u001b[0mfname\u001b[0m \u001b[0;34m=\u001b[0m \u001b[0m_check_fname\u001b[0m\u001b[0;34m(\u001b[0m\u001b[0mfname\u001b[0m\u001b[0;34m,\u001b[0m \u001b[0moverwrite\u001b[0m\u001b[0;34m=\u001b[0m\u001b[0;34m\"read\"\u001b[0m\u001b[0;34m,\u001b[0m \u001b[0mmust_exist\u001b[0m\u001b[0;34m=\u001b[0m\u001b[0;32mTrue\u001b[0m\u001b[0;34m)\u001b[0m\u001b[0;34m\u001b[0m\u001b[0;34m\u001b[0m\u001b[0m\n\u001b[0m\u001b[1;32m    513\u001b[0m     \u001b[0mcheck_fname\u001b[0m\u001b[0;34m(\u001b[0m\u001b[0mfname\u001b[0m\u001b[0;34m,\u001b[0m \u001b[0;34m\"cal\"\u001b[0m\u001b[0;34m,\u001b[0m \u001b[0;34m(\u001b[0m\u001b[0;34m\".dat\"\u001b[0m\u001b[0;34m,\u001b[0m\u001b[0;34m)\u001b[0m\u001b[0;34m)\u001b[0m\u001b[0;34m\u001b[0m\u001b[0;34m\u001b[0m\u001b[0m\n\u001b[1;32m    514\u001b[0m     \u001b[0mch_names\u001b[0m\u001b[0;34m,\u001b[0m \u001b[0mlocs\u001b[0m\u001b[0;34m,\u001b[0m \u001b[0mimb_cals\u001b[0m \u001b[0;34m=\u001b[0m \u001b[0mlist\u001b[0m\u001b[0;34m(\u001b[0m\u001b[0;34m)\u001b[0m\u001b[0;34m,\u001b[0m \u001b[0mlist\u001b[0m\u001b[0;34m(\u001b[0m\u001b[0;34m)\u001b[0m\u001b[0;34m,\u001b[0m \u001b[0mlist\u001b[0m\u001b[0;34m(\u001b[0m\u001b[0;34m)\u001b[0m\u001b[0;34m\u001b[0m\u001b[0;34m\u001b[0m\u001b[0m\n",
      "\u001b[0;32m<decorator-gen-0>\u001b[0m in \u001b[0;36m_check_fname\u001b[0;34m(fname, overwrite, must_exist, name, need_dir, verbose)\u001b[0m\n",
      "\u001b[0;32m~/opt/anaconda3/lib/python3.9/site-packages/mne/utils/check.py\u001b[0m in \u001b[0;36m_check_fname\u001b[0;34m(fname, overwrite, must_exist, name, need_dir, verbose)\u001b[0m\n\u001b[1;32m    259\u001b[0m                 \u001b[0;32mraise\u001b[0m \u001b[0mPermissionError\u001b[0m\u001b[0;34m(\u001b[0m\u001b[0;34mf\"{name} does not have read permissions: {fname}\"\u001b[0m\u001b[0;34m)\u001b[0m\u001b[0;34m\u001b[0m\u001b[0;34m\u001b[0m\u001b[0m\n\u001b[1;32m    260\u001b[0m     \u001b[0;32melif\u001b[0m \u001b[0mmust_exist\u001b[0m\u001b[0;34m:\u001b[0m\u001b[0;34m\u001b[0m\u001b[0;34m\u001b[0m\u001b[0m\n\u001b[0;32m--> 261\u001b[0;31m         \u001b[0;32mraise\u001b[0m \u001b[0mFileNotFoundError\u001b[0m\u001b[0;34m(\u001b[0m\u001b[0;34mf'{name} does not exist: \"{fname}\"'\u001b[0m\u001b[0;34m)\u001b[0m\u001b[0;34m\u001b[0m\u001b[0;34m\u001b[0m\u001b[0m\n\u001b[0m\u001b[1;32m    262\u001b[0m \u001b[0;34m\u001b[0m\u001b[0m\n\u001b[1;32m    263\u001b[0m     \u001b[0;32mreturn\u001b[0m \u001b[0mfname\u001b[0m\u001b[0;34m\u001b[0m\u001b[0;34m\u001b[0m\u001b[0m\n",
      "\u001b[0;31mFileNotFoundError\u001b[0m: File does not exist: \"/Users/yngvifrey/Documents/Data_MEEG/MEEG_data/NatMEG_0177/170424/MEG/SSS/sss_cal_mgh.dat\""
     ]
    }
   ],
   "source": [
    "cal_fname = op.join(data_path, 'SSS', 'sss_cal_mgh.dat')\n",
    "ct_fname = op.join(data_path, 'SSS', 'ct_sparse_mgh.fif')\n",
    "\n",
    "write_meg_calibration(cal_fname, bids_path)\n",
    "write_meg_crosstalk(ct_fname, bids_path)"
   ]
  },
  {
   "cell_type": "markdown",
   "metadata": {},
   "source": [
    "Now let's see the structure of the BIDS folder we created.\n",
    "\n"
   ]
  },
  {
   "cell_type": "code",
   "execution_count": 21,
   "metadata": {},
   "outputs": [
    {
     "name": "stdout",
     "output_type": "stream",
     "text": [
      "|BIDS/\n",
      "|--- README\n",
      "|--- dataset_description.json\n",
      "|--- participants.json\n",
      "|--- participants.tsv\n",
      "|--- sub-01/\n",
      "|------ ses-01/\n",
      "|--------- meg/\n",
      "|------------ sub-01_ses-01_coordsystem.json\n",
      "|------------ sub-01_ses-01_task-face_run-1_meg.json\n"
     ]
    }
   ],
   "source": [
    "print_dir_tree(output_path)"
   ]
  },
  {
   "cell_type": "markdown",
   "metadata": {},
   "source": [
    "Now let's get an overview of the events on the whole dataset\n",
    "\n"
   ]
  },
  {
   "cell_type": "code",
   "execution_count": 25,
   "metadata": {},
   "outputs": [
    {
     "ename": "ValueError",
     "evalue": "No events files found.",
     "output_type": "error",
     "traceback": [
      "\u001b[0;31m---------------------------------------------------------------------------\u001b[0m",
      "\u001b[0;31mValueError\u001b[0m                                Traceback (most recent call last)",
      "\u001b[0;32m/var/folders/8j/2w7rdjlj5sg59_1hy83zsg3c0000gn/T/ipykernel_1335/1633486683.py\u001b[0m in \u001b[0;36m<module>\u001b[0;34m\u001b[0m\n\u001b[0;32m----> 1\u001b[0;31m \u001b[0mcounts\u001b[0m \u001b[0;34m=\u001b[0m \u001b[0mcount_events\u001b[0m\u001b[0;34m(\u001b[0m\u001b[0moutput_path\u001b[0m\u001b[0;34m)\u001b[0m\u001b[0;34m\u001b[0m\u001b[0;34m\u001b[0m\u001b[0m\n\u001b[0m\u001b[1;32m      2\u001b[0m \u001b[0mcounts\u001b[0m\u001b[0;34m\u001b[0m\u001b[0;34m\u001b[0m\u001b[0m\n",
      "\u001b[0;32m~/opt/anaconda3/lib/python3.9/site-packages/mne_bids/stats.py\u001b[0m in \u001b[0;36mcount_events\u001b[0;34m(root_or_path, datatype)\u001b[0m\n\u001b[1;32m    114\u001b[0m \u001b[0;34m\u001b[0m\u001b[0m\n\u001b[1;32m    115\u001b[0m     \u001b[0;32mif\u001b[0m \u001b[0;32mnot\u001b[0m \u001b[0mall_counts\u001b[0m\u001b[0;34m:\u001b[0m\u001b[0;34m\u001b[0m\u001b[0;34m\u001b[0m\u001b[0m\n\u001b[0;32m--> 116\u001b[0;31m         \u001b[0;32mraise\u001b[0m \u001b[0mValueError\u001b[0m\u001b[0;34m(\u001b[0m\u001b[0;34m'No events files found.'\u001b[0m\u001b[0;34m)\u001b[0m\u001b[0;34m\u001b[0m\u001b[0;34m\u001b[0m\u001b[0m\n\u001b[0m\u001b[1;32m    117\u001b[0m \u001b[0;34m\u001b[0m\u001b[0m\n\u001b[1;32m    118\u001b[0m     \u001b[0mcounts\u001b[0m \u001b[0;34m=\u001b[0m \u001b[0mpd\u001b[0m\u001b[0;34m.\u001b[0m\u001b[0mconcat\u001b[0m\u001b[0;34m(\u001b[0m\u001b[0mall_counts\u001b[0m\u001b[0;34m,\u001b[0m \u001b[0maxis\u001b[0m\u001b[0;34m=\u001b[0m\u001b[0;36m1\u001b[0m\u001b[0;34m)\u001b[0m\u001b[0;34m\u001b[0m\u001b[0;34m\u001b[0m\u001b[0m\n",
      "\u001b[0;31mValueError\u001b[0m: No events files found."
     ]
    }
   ],
   "source": [
    "counts = count_events(output_path)\n",
    "counts"
   ]
  },
  {
   "cell_type": "markdown",
   "metadata": {},
   "source": [
    "A big advantage of having data organized according to BIDS is that software\n",
    "packages can automate your workflow. For example, reading the data back\n",
    "into MNE-Python can easily be done using :func:`read_raw_bids`.\n",
    "\n"
   ]
  },
  {
   "cell_type": "code",
   "execution_count": 11,
   "metadata": {},
   "outputs": [
    {
     "ename": "FileNotFoundError",
     "evalue": "File does not exist:\n/Users/yngvifrey/Documents/Data_MEEG/MEEG_data/NatMEG_0177/170424/MEG/BIDS/sub-01/ses-01/meg/sub-01_ses-01_task-face_run-1_meg\nDid you mean one of:\nsub-01_ses-01_task-face_run-1_meg.json\ninstead of:\nsub-01_ses-01_task-face_run-1_meg",
     "output_type": "error",
     "traceback": [
      "\u001b[0;31m---------------------------------------------------------------------------\u001b[0m",
      "\u001b[0;31mFileNotFoundError\u001b[0m                         Traceback (most recent call last)",
      "\u001b[0;32m/var/folders/8j/2w7rdjlj5sg59_1hy83zsg3c0000gn/T/ipykernel_1335/1468954698.py\u001b[0m in \u001b[0;36m<module>\u001b[0;34m\u001b[0m\n\u001b[0;32m----> 1\u001b[0;31m \u001b[0mraw\u001b[0m \u001b[0;34m=\u001b[0m \u001b[0mread_raw_bids\u001b[0m\u001b[0;34m(\u001b[0m\u001b[0mbids_path\u001b[0m\u001b[0;34m=\u001b[0m\u001b[0mbids_path\u001b[0m\u001b[0;34m)\u001b[0m\u001b[0;34m\u001b[0m\u001b[0;34m\u001b[0m\u001b[0m\n\u001b[0m",
      "\u001b[0;32m<decorator-gen-630>\u001b[0m in \u001b[0;36mread_raw_bids\u001b[0;34m(bids_path, extra_params, verbose)\u001b[0m\n",
      "\u001b[0;32m~/opt/anaconda3/lib/python3.9/site-packages/mne_bids/read.py\u001b[0m in \u001b[0;36mread_raw_bids\u001b[0;34m(bids_path, extra_params, verbose)\u001b[0m\n\u001b[1;32m    748\u001b[0m                 \u001b[0mbids_path\u001b[0m\u001b[0;34m.\u001b[0m\u001b[0mbasename\u001b[0m\u001b[0;34m\u001b[0m\u001b[0;34m\u001b[0m\u001b[0m\n\u001b[1;32m    749\u001b[0m             )\n\u001b[0;32m--> 750\u001b[0;31m         \u001b[0;32mraise\u001b[0m \u001b[0mFileNotFoundError\u001b[0m\u001b[0;34m(\u001b[0m\u001b[0mmsg\u001b[0m\u001b[0;34m)\u001b[0m\u001b[0;34m\u001b[0m\u001b[0;34m\u001b[0m\u001b[0m\n\u001b[0m\u001b[1;32m    751\u001b[0m     \u001b[0;32mif\u001b[0m \u001b[0mconfig_path\u001b[0m \u001b[0;32mis\u001b[0m \u001b[0;32mnot\u001b[0m \u001b[0;32mNone\u001b[0m \u001b[0;32mand\u001b[0m \u001b[0;32mnot\u001b[0m \u001b[0mconfig_path\u001b[0m\u001b[0;34m.\u001b[0m\u001b[0mexists\u001b[0m\u001b[0;34m(\u001b[0m\u001b[0;34m)\u001b[0m\u001b[0;34m:\u001b[0m\u001b[0;34m\u001b[0m\u001b[0;34m\u001b[0m\u001b[0m\n\u001b[1;32m    752\u001b[0m         \u001b[0;32mraise\u001b[0m \u001b[0mFileNotFoundError\u001b[0m\u001b[0;34m(\u001b[0m\u001b[0;34mf'config directory not found: {config_path}'\u001b[0m\u001b[0;34m)\u001b[0m\u001b[0;34m\u001b[0m\u001b[0;34m\u001b[0m\u001b[0m\n",
      "\u001b[0;31mFileNotFoundError\u001b[0m: File does not exist:\n/Users/yngvifrey/Documents/Data_MEEG/MEEG_data/NatMEG_0177/170424/MEG/BIDS/sub-01/ses-01/meg/sub-01_ses-01_task-face_run-1_meg\nDid you mean one of:\nsub-01_ses-01_task-face_run-1_meg.json\ninstead of:\nsub-01_ses-01_task-face_run-1_meg"
     ]
    }
   ],
   "source": [
    "raw = read_raw_bids(bids_path=bids_path)"
   ]
  },
  {
   "cell_type": "markdown",
   "metadata": {},
   "source": [
    "The resulting data is already in a convenient form to create epochs and\n",
    "evoked data.\n",
    "\n"
   ]
  },
  {
   "cell_type": "code",
   "execution_count": 12,
   "metadata": {},
   "outputs": [
    {
     "ename": "ValueError",
     "evalue": "zero-size array to reduction operation maximum which has no identity",
     "output_type": "error",
     "traceback": [
      "\u001b[0;31m---------------------------------------------------------------------------\u001b[0m",
      "\u001b[0;31mValueError\u001b[0m                                Traceback (most recent call last)",
      "\u001b[0;32m/var/folders/8j/2w7rdjlj5sg59_1hy83zsg3c0000gn/T/ipykernel_1335/567508591.py\u001b[0m in \u001b[0;36m<module>\u001b[0;34m\u001b[0m\n\u001b[1;32m      1\u001b[0m \u001b[0mevents\u001b[0m\u001b[0;34m,\u001b[0m \u001b[0mevent_id\u001b[0m \u001b[0;34m=\u001b[0m \u001b[0mmne\u001b[0m\u001b[0;34m.\u001b[0m\u001b[0mevents_from_annotations\u001b[0m\u001b[0;34m(\u001b[0m\u001b[0mraw\u001b[0m\u001b[0;34m)\u001b[0m\u001b[0;34m\u001b[0m\u001b[0;34m\u001b[0m\u001b[0m\n\u001b[0;32m----> 2\u001b[0;31m \u001b[0mepochs\u001b[0m \u001b[0;34m=\u001b[0m \u001b[0mmne\u001b[0m\u001b[0;34m.\u001b[0m\u001b[0mEpochs\u001b[0m\u001b[0;34m(\u001b[0m\u001b[0mraw\u001b[0m\u001b[0;34m,\u001b[0m \u001b[0mevents\u001b[0m\u001b[0;34m,\u001b[0m \u001b[0mevent_id\u001b[0m\u001b[0;34m)\u001b[0m\u001b[0;34m\u001b[0m\u001b[0;34m\u001b[0m\u001b[0m\n\u001b[0m\u001b[1;32m      3\u001b[0m \u001b[0mepochs\u001b[0m\u001b[0;34m[\u001b[0m\u001b[0;34m'Auditory'\u001b[0m\u001b[0;34m]\u001b[0m\u001b[0;34m.\u001b[0m\u001b[0maverage\u001b[0m\u001b[0;34m(\u001b[0m\u001b[0;34m)\u001b[0m\u001b[0;34m.\u001b[0m\u001b[0mplot\u001b[0m\u001b[0;34m(\u001b[0m\u001b[0;34m)\u001b[0m\u001b[0;34m\u001b[0m\u001b[0;34m\u001b[0m\u001b[0m\n",
      "\u001b[0;32m<decorator-gen-286>\u001b[0m in \u001b[0;36m__init__\u001b[0;34m(self, raw, events, event_id, tmin, tmax, baseline, picks, preload, reject, flat, proj, decim, reject_tmin, reject_tmax, detrend, on_missing, reject_by_annotation, metadata, event_repeated, verbose)\u001b[0m\n",
      "\u001b[0;32m~/opt/anaconda3/lib/python3.9/site-packages/mne/epochs.py\u001b[0m in \u001b[0;36m__init__\u001b[0;34m(self, raw, events, event_id, tmin, tmax, baseline, picks, preload, reject, flat, proj, decim, reject_tmin, reject_tmax, detrend, on_missing, reject_by_annotation, metadata, event_repeated, verbose)\u001b[0m\n\u001b[1;32m   3085\u001b[0m \u001b[0;34m\u001b[0m\u001b[0m\n\u001b[1;32m   3086\u001b[0m         \u001b[0;31m# call BaseEpochs constructor\u001b[0m\u001b[0;34m\u001b[0m\u001b[0;34m\u001b[0m\u001b[0m\n\u001b[0;32m-> 3087\u001b[0;31m         super(Epochs, self).__init__(\n\u001b[0m\u001b[1;32m   3088\u001b[0m             \u001b[0minfo\u001b[0m\u001b[0;34m,\u001b[0m\u001b[0;34m\u001b[0m\u001b[0;34m\u001b[0m\u001b[0m\n\u001b[1;32m   3089\u001b[0m             \u001b[0;32mNone\u001b[0m\u001b[0;34m,\u001b[0m\u001b[0;34m\u001b[0m\u001b[0;34m\u001b[0m\u001b[0m\n",
      "\u001b[0;32m<decorator-gen-272>\u001b[0m in \u001b[0;36m__init__\u001b[0;34m(self, info, data, events, event_id, tmin, tmax, baseline, raw, picks, reject, flat, decim, reject_tmin, reject_tmax, detrend, proj, on_missing, preload_at_end, selection, drop_log, filename, metadata, event_repeated, raw_sfreq, annotations, verbose)\u001b[0m\n",
      "\u001b[0;32m~/opt/anaconda3/lib/python3.9/site-packages/mne/epochs.py\u001b[0m in \u001b[0;36m__init__\u001b[0;34m(self, info, data, events, event_id, tmin, tmax, baseline, raw, picks, reject, flat, decim, reject_tmin, reject_tmax, detrend, proj, on_missing, preload_at_end, selection, drop_log, filename, metadata, event_repeated, raw_sfreq, annotations, verbose)\u001b[0m\n\u001b[1;32m    483\u001b[0m         \u001b[0;32mif\u001b[0m \u001b[0mevents\u001b[0m \u001b[0;32mis\u001b[0m \u001b[0;32mnot\u001b[0m \u001b[0;32mNone\u001b[0m\u001b[0;34m:\u001b[0m  \u001b[0;31m# RtEpochs can have events=None\u001b[0m\u001b[0;34m\u001b[0m\u001b[0;34m\u001b[0m\u001b[0m\n\u001b[1;32m    484\u001b[0m             \u001b[0mevents\u001b[0m \u001b[0;34m=\u001b[0m \u001b[0m_ensure_events\u001b[0m\u001b[0;34m(\u001b[0m\u001b[0mevents\u001b[0m\u001b[0;34m)\u001b[0m\u001b[0;34m\u001b[0m\u001b[0;34m\u001b[0m\u001b[0m\n\u001b[0;32m--> 485\u001b[0;31m             \u001b[0mevents_max\u001b[0m \u001b[0;34m=\u001b[0m \u001b[0mevents\u001b[0m\u001b[0;34m.\u001b[0m\u001b[0mmax\u001b[0m\u001b[0;34m(\u001b[0m\u001b[0;34m)\u001b[0m\u001b[0;34m\u001b[0m\u001b[0;34m\u001b[0m\u001b[0m\n\u001b[0m\u001b[1;32m    486\u001b[0m             \u001b[0;32mif\u001b[0m \u001b[0mevents_max\u001b[0m \u001b[0;34m>\u001b[0m \u001b[0mINT32_MAX\u001b[0m\u001b[0;34m:\u001b[0m\u001b[0;34m\u001b[0m\u001b[0;34m\u001b[0m\u001b[0m\n\u001b[1;32m    487\u001b[0m                 raise ValueError(\n",
      "\u001b[0;32m~/opt/anaconda3/lib/python3.9/site-packages/numpy/core/_methods.py\u001b[0m in \u001b[0;36m_amax\u001b[0;34m(a, axis, out, keepdims, initial, where)\u001b[0m\n\u001b[1;32m     38\u001b[0m def _amax(a, axis=None, out=None, keepdims=False,\n\u001b[1;32m     39\u001b[0m           initial=_NoValue, where=True):\n\u001b[0;32m---> 40\u001b[0;31m     \u001b[0;32mreturn\u001b[0m \u001b[0mumr_maximum\u001b[0m\u001b[0;34m(\u001b[0m\u001b[0ma\u001b[0m\u001b[0;34m,\u001b[0m \u001b[0maxis\u001b[0m\u001b[0;34m,\u001b[0m \u001b[0;32mNone\u001b[0m\u001b[0;34m,\u001b[0m \u001b[0mout\u001b[0m\u001b[0;34m,\u001b[0m \u001b[0mkeepdims\u001b[0m\u001b[0;34m,\u001b[0m \u001b[0minitial\u001b[0m\u001b[0;34m,\u001b[0m \u001b[0mwhere\u001b[0m\u001b[0;34m)\u001b[0m\u001b[0;34m\u001b[0m\u001b[0;34m\u001b[0m\u001b[0m\n\u001b[0m\u001b[1;32m     41\u001b[0m \u001b[0;34m\u001b[0m\u001b[0m\n\u001b[1;32m     42\u001b[0m def _amin(a, axis=None, out=None, keepdims=False,\n",
      "\u001b[0;31mValueError\u001b[0m: zero-size array to reduction operation maximum which has no identity"
     ]
    }
   ],
   "source": [
    "events, event_id = mne.events_from_annotations(raw)\n",
    "epochs = mne.Epochs(raw, events, event_id)\n",
    "epochs['Auditory'].average().plot()"
   ]
  },
  {
   "cell_type": "markdown",
   "metadata": {},
   "source": [
    "We can easily get the :class:`mne_bids.BIDSPath` of the empty-room recording\n",
    "that was associated with the experimental data while writing. The empty-room\n",
    "data can then be loaded with :func:`read_raw_bids`.\n",
    "\n"
   ]
  },
  {
   "cell_type": "code",
   "execution_count": null,
   "metadata": {},
   "outputs": [],
   "source": [
    "er_bids_path = bids_path.find_empty_room(use_sidecar_only=True)\n",
    "er_data = read_raw_bids(er_bids_path)\n",
    "er_data"
   ]
  },
  {
   "cell_type": "markdown",
   "metadata": {},
   "source": [
    "It is trivial to retrieve the path of the fine-calibration and crosstalk\n",
    "files, too.\n",
    "\n"
   ]
  },
  {
   "cell_type": "code",
   "execution_count": null,
   "metadata": {},
   "outputs": [],
   "source": [
    "print(bids_path.meg_calibration_fpath)\n",
    "print(bids_path.meg_crosstalk_fpath)"
   ]
  },
  {
   "cell_type": "markdown",
   "metadata": {},
   "source": [
    "The README created by :func:`write_raw_bids` also takes care of the citation\n",
    "for mne-bids. If you are preparing a manuscript, please make sure to also\n",
    "cite MNE-BIDS there.\n",
    "\n"
   ]
  },
  {
   "cell_type": "code",
   "execution_count": null,
   "metadata": {},
   "outputs": [],
   "source": [
    "readme = op.join(output_path, 'README')\n",
    "with open(readme, 'r', encoding='utf-8-sig') as fid:\n",
    "    text = fid.read()\n",
    "print(text)"
   ]
  },
  {
   "cell_type": "markdown",
   "metadata": {},
   "source": [
    "It is also generally a good idea to add a description of your dataset,\n",
    "see the `BIDS dataset_description.json definition`_ for more information.\n",
    "\n"
   ]
  },
  {
   "cell_type": "code",
   "execution_count": null,
   "metadata": {},
   "outputs": [],
   "source": [
    "how_to_acknowledge = \"\"\"\\\n",
    "If you reference this dataset in a publication, please acknowledge its \\\n",
    "authors and cite MNE papers: A. Gramfort, M. Luessi, E. Larson, D. Engemann, \\\n",
    "D. Strohmeier, C. Brodbeck, L. Parkkonen, M. Hämäläinen, \\\n",
    "MNE software for processing MEG and EEG data, NeuroImage, Volume 86, \\\n",
    "1 February 2014, Pages 446-460, ISSN 1053-8119 \\\n",
    "and \\\n",
    "A. Gramfort, M. Luessi, E. Larson, D. Engemann, D. Strohmeier, C. Brodbeck, \\\n",
    "R. Goj, M. Jas, T. Brooks, L. Parkkonen, M. Hämäläinen, MEG and EEG data \\\n",
    "analysis with MNE-Python, Frontiers in Neuroscience, Volume 7, 2013, \\\n",
    "ISSN 1662-453X\"\"\"\n",
    "\n",
    "make_dataset_description(\n",
    "    path=bids_path.root,\n",
    "    name=task,\n",
    "    authors=[\"Alexandre Gramfort\", \"Matti Hämäläinen\"],\n",
    "    how_to_acknowledge=how_to_acknowledge,\n",
    "    acknowledgements=\"\"\"\\\n",
    "Alexandre Gramfort, Mainak Jas, and Stefan Appelhoff prepared and updated the \\\n",
    "data in BIDS format.\"\"\",\n",
    "    data_license='CC0',\n",
    "    ethics_approvals=['Human Subjects Division at the University of Washington'],  # noqa: E501\n",
    "    funding=[\n",
    "        \"NIH 5R01EB009048\",\n",
    "        \"NIH 1R01EB009048\",\n",
    "        \"NIH R01EB006385\",\n",
    "        \"NIH 1R01HD40712\",\n",
    "        \"NIH 1R01NS44319\",\n",
    "        \"NIH 2R01NS37462\",\n",
    "        \"NIH P41EB015896\",\n",
    "        \"ANR-11-IDEX-0003-02\",\n",
    "        \"ERC-StG-263584\",\n",
    "        \"ERC-StG-676943\",\n",
    "        \"ANR-14-NEUC-0002-01\"\n",
    "    ],\n",
    "    references_and_links=[\n",
    "        \"https://doi.org/10.1016/j.neuroimage.2014.02.017\",\n",
    "        \"https://doi.org/10.3389/fnins.2013.00267\",\n",
    "        \"https://mne.tools/stable/overview/datasets_index.html#sample\"\n",
    "    ],\n",
    "    doi=\"doi:10.18112/openneuro.ds000248.v1.2.4\",\n",
    "    overwrite=True\n",
    ")\n",
    "desc_json_path = bids_path.root / 'dataset_description.json'\n",
    "with open(desc_json_path, 'r', encoding='utf-8-sig') as fid:\n",
    "    pprint(json.loads(fid.read()))"
   ]
  },
  {
   "cell_type": "markdown",
   "metadata": {},
   "source": [
    "This should be very similar to the `ds000248 dataset_description.json`_!\n",
    "\n"
   ]
  }
 ],
 "metadata": {
  "kernelspec": {
   "display_name": "Python 3 (ipykernel)",
   "language": "python",
   "name": "python3"
  },
  "language_info": {
   "codemirror_mode": {
    "name": "ipython",
    "version": 3
   },
   "file_extension": ".py",
   "mimetype": "text/x-python",
   "name": "python",
   "nbconvert_exporter": "python",
   "pygments_lexer": "ipython3",
   "version": "3.9.13"
  }
 },
 "nbformat": 4,
 "nbformat_minor": 1
}
