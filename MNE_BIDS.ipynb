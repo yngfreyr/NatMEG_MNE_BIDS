{
 "cells": [
  {
   "cell_type": "code",
   "execution_count": 1,
   "metadata": {},
   "outputs": [],
   "source": [
    "%matplotlib inline"
   ]
  },
  {
   "cell_type": "markdown",
   "metadata": {},
   "source": [
    "\n",
    ".. currentmodule:: mne_bids\n",
    "\n",
    "\n",
    "# Convert MEG data to BIDS format\n",
    "\n",
    "In this notebook you will use MNE-BIDS to organize MEG data according\n",
    "to the BIDS standard."
   ]
  },
  {
   "cell_type": "code",
   "execution_count": null,
   "metadata": {},
   "outputs": [],
   "source": [
    "# Notebook is based on tutorial:\n",
    "# https://mne.tools/mne-bids/stable/auto_examples/convert_mne_sample.html\n",
    "# Authors: Mainak Jas <mainak.jas@telecom-paristech.fr>\n",
    "#          Alexandre Gramfort <alexandre.gramfort@telecom-paristech.fr>\n",
    "#          Teon Brooks <teon.brooks@gmail.com>\n",
    "#          Stefan Appelhoff <stefan.appelhoff@mailbox.org>\n",
    "#          Richard Höchenberger <richard.hoechenberger@gmail.com>\n",
    "#\n",
    "# License: BSD-3-Clause"
   ]
  },
  {
   "cell_type": "code",
   "execution_count": null,
   "metadata": {},
   "outputs": [
    {
     "name": "stdout",
     "output_type": "stream",
     "text": [
      "Requirement already satisfied: mne in /Users/yngvifrey/opt/anaconda3/lib/python3.9/site-packages (1.4.2)\n",
      "Requirement already satisfied: packaging in /Users/yngvifrey/opt/anaconda3/lib/python3.9/site-packages (from mne) (21.3)\n",
      "Requirement already satisfied: tqdm in /Users/yngvifrey/opt/anaconda3/lib/python3.9/site-packages (from mne) (4.64.1)\n",
      "Requirement already satisfied: scipy>=1.6.3 in /Users/yngvifrey/opt/anaconda3/lib/python3.9/site-packages (from mne) (1.9.1)\n",
      "Requirement already satisfied: jinja2 in /Users/yngvifrey/opt/anaconda3/lib/python3.9/site-packages (from mne) (2.11.3)\n",
      "Requirement already satisfied: pooch>=1.5 in /Users/yngvifrey/opt/anaconda3/lib/python3.9/site-packages (from mne) (1.7.0)\n",
      "Requirement already satisfied: decorator in /Users/yngvifrey/opt/anaconda3/lib/python3.9/site-packages (from mne) (5.1.1)\n",
      "Requirement already satisfied: matplotlib>=3.4.0 in /Users/yngvifrey/opt/anaconda3/lib/python3.9/site-packages (from mne) (3.5.2)\n",
      "Requirement already satisfied: numpy>=1.15.4 in /Users/yngvifrey/opt/anaconda3/lib/python3.9/site-packages (from mne) (1.21.5)\n",
      "Requirement already satisfied: fonttools>=4.22.0 in /Users/yngvifrey/opt/anaconda3/lib/python3.9/site-packages (from matplotlib>=3.4.0->mne) (4.25.0)\n",
      "Requirement already satisfied: pillow>=6.2.0 in /Users/yngvifrey/opt/anaconda3/lib/python3.9/site-packages (from matplotlib>=3.4.0->mne) (9.2.0)\n",
      "Requirement already satisfied: python-dateutil>=2.7 in /Users/yngvifrey/opt/anaconda3/lib/python3.9/site-packages (from matplotlib>=3.4.0->mne) (2.8.2)\n",
      "Requirement already satisfied: kiwisolver>=1.0.1 in /Users/yngvifrey/opt/anaconda3/lib/python3.9/site-packages (from matplotlib>=3.4.0->mne) (1.4.2)\n",
      "Requirement already satisfied: pyparsing>=2.2.1 in /Users/yngvifrey/opt/anaconda3/lib/python3.9/site-packages (from matplotlib>=3.4.0->mne) (3.0.9)\n",
      "Requirement already satisfied: cycler>=0.10 in /Users/yngvifrey/opt/anaconda3/lib/python3.9/site-packages (from matplotlib>=3.4.0->mne) (0.11.0)\n",
      "Requirement already satisfied: platformdirs>=2.5.0 in /Users/yngvifrey/opt/anaconda3/lib/python3.9/site-packages (from pooch>=1.5->mne) (2.5.2)\n",
      "Requirement already satisfied: requests>=2.19.0 in /Users/yngvifrey/opt/anaconda3/lib/python3.9/site-packages (from pooch>=1.5->mne) (2.28.1)\n",
      "Requirement already satisfied: MarkupSafe>=0.23 in /Users/yngvifrey/opt/anaconda3/lib/python3.9/site-packages (from jinja2->mne) (2.0.1)\n",
      "Requirement already satisfied: six>=1.5 in /Users/yngvifrey/opt/anaconda3/lib/python3.9/site-packages (from python-dateutil>=2.7->matplotlib>=3.4.0->mne) (1.16.0)\n",
      "Requirement already satisfied: idna<4,>=2.5 in /Users/yngvifrey/opt/anaconda3/lib/python3.9/site-packages (from requests>=2.19.0->pooch>=1.5->mne) (3.3)\n",
      "Requirement already satisfied: urllib3<1.27,>=1.21.1 in /Users/yngvifrey/opt/anaconda3/lib/python3.9/site-packages (from requests>=2.19.0->pooch>=1.5->mne) (1.26.11)\n",
      "Requirement already satisfied: certifi>=2017.4.17 in /Users/yngvifrey/opt/anaconda3/lib/python3.9/site-packages (from requests>=2.19.0->pooch>=1.5->mne) (2022.9.24)\n",
      "Requirement already satisfied: charset-normalizer<3,>=2 in /Users/yngvifrey/opt/anaconda3/lib/python3.9/site-packages (from requests>=2.19.0->pooch>=1.5->mne) (2.0.4)\n",
      "Note: you may need to restart the kernel to use updated packages.\n"
     ]
    }
   ],
   "source": [
    "#Install MNE package\n",
    "pip install mne"
   ]
  },
  {
   "cell_type": "code",
   "execution_count": null,
   "metadata": {},
   "outputs": [
    {
     "name": "stdout",
     "output_type": "stream",
     "text": [
      "Requirement already satisfied: mne in /Users/yngvifrey/opt/anaconda3/lib/python3.9/site-packages (1.4.2)\n",
      "Requirement already satisfied: mne-bids in /Users/yngvifrey/opt/anaconda3/lib/python3.9/site-packages (0.12)\n",
      "Requirement already satisfied: packaging in /Users/yngvifrey/opt/anaconda3/lib/python3.9/site-packages (from mne) (21.3)\n",
      "Requirement already satisfied: jinja2 in /Users/yngvifrey/opt/anaconda3/lib/python3.9/site-packages (from mne) (2.11.3)\n",
      "Requirement already satisfied: decorator in /Users/yngvifrey/opt/anaconda3/lib/python3.9/site-packages (from mne) (5.1.1)\n",
      "Requirement already satisfied: scipy>=1.6.3 in /Users/yngvifrey/opt/anaconda3/lib/python3.9/site-packages (from mne) (1.9.1)\n",
      "Requirement already satisfied: pooch>=1.5 in /Users/yngvifrey/opt/anaconda3/lib/python3.9/site-packages (from mne) (1.7.0)\n",
      "Requirement already satisfied: tqdm in /Users/yngvifrey/opt/anaconda3/lib/python3.9/site-packages (from mne) (4.64.1)\n",
      "Requirement already satisfied: numpy>=1.15.4 in /Users/yngvifrey/opt/anaconda3/lib/python3.9/site-packages (from mne) (1.21.5)\n",
      "Requirement already satisfied: matplotlib>=3.4.0 in /Users/yngvifrey/opt/anaconda3/lib/python3.9/site-packages (from mne) (3.5.2)\n",
      "Requirement already satisfied: setuptools in /Users/yngvifrey/opt/anaconda3/lib/python3.9/site-packages (from mne-bids) (63.4.1)\n",
      "Requirement already satisfied: pillow>=6.2.0 in /Users/yngvifrey/opt/anaconda3/lib/python3.9/site-packages (from matplotlib>=3.4.0->mne) (9.2.0)\n",
      "Requirement already satisfied: fonttools>=4.22.0 in /Users/yngvifrey/opt/anaconda3/lib/python3.9/site-packages (from matplotlib>=3.4.0->mne) (4.25.0)\n",
      "Requirement already satisfied: cycler>=0.10 in /Users/yngvifrey/opt/anaconda3/lib/python3.9/site-packages (from matplotlib>=3.4.0->mne) (0.11.0)\n",
      "Requirement already satisfied: pyparsing>=2.2.1 in /Users/yngvifrey/opt/anaconda3/lib/python3.9/site-packages (from matplotlib>=3.4.0->mne) (3.0.9)\n",
      "Requirement already satisfied: kiwisolver>=1.0.1 in /Users/yngvifrey/opt/anaconda3/lib/python3.9/site-packages (from matplotlib>=3.4.0->mne) (1.4.2)\n",
      "Requirement already satisfied: python-dateutil>=2.7 in /Users/yngvifrey/opt/anaconda3/lib/python3.9/site-packages (from matplotlib>=3.4.0->mne) (2.8.2)\n",
      "Requirement already satisfied: platformdirs>=2.5.0 in /Users/yngvifrey/opt/anaconda3/lib/python3.9/site-packages (from pooch>=1.5->mne) (2.5.2)\n",
      "Requirement already satisfied: requests>=2.19.0 in /Users/yngvifrey/opt/anaconda3/lib/python3.9/site-packages (from pooch>=1.5->mne) (2.28.1)\n",
      "Requirement already satisfied: MarkupSafe>=0.23 in /Users/yngvifrey/opt/anaconda3/lib/python3.9/site-packages (from jinja2->mne) (2.0.1)\n",
      "Requirement already satisfied: six>=1.5 in /Users/yngvifrey/opt/anaconda3/lib/python3.9/site-packages (from python-dateutil>=2.7->matplotlib>=3.4.0->mne) (1.16.0)\n",
      "Requirement already satisfied: certifi>=2017.4.17 in /Users/yngvifrey/opt/anaconda3/lib/python3.9/site-packages (from requests>=2.19.0->pooch>=1.5->mne) (2022.9.24)\n",
      "Requirement already satisfied: urllib3<1.27,>=1.21.1 in /Users/yngvifrey/opt/anaconda3/lib/python3.9/site-packages (from requests>=2.19.0->pooch>=1.5->mne) (1.26.11)\n",
      "Requirement already satisfied: charset-normalizer<3,>=2 in /Users/yngvifrey/opt/anaconda3/lib/python3.9/site-packages (from requests>=2.19.0->pooch>=1.5->mne) (2.0.4)\n",
      "Requirement already satisfied: idna<4,>=2.5 in /Users/yngvifrey/opt/anaconda3/lib/python3.9/site-packages (from requests>=2.19.0->pooch>=1.5->mne) (3.3)\n",
      "Note: you may need to restart the kernel to use updated packages.\n"
     ]
    }
   ],
   "source": [
    "#Install MNE BIDS package\n",
    "pip install mne mne-bids"
   ]
  },
  {
   "cell_type": "markdown",
   "metadata": {},
   "source": [
    "First we import some basic Python libraries, followed by MNE-Python and its\n",
    "sample data, and then finally the MNE-BIDS functions we need for this example\n",
    "\n"
   ]
  },
  {
   "cell_type": "code",
   "execution_count": 3,
   "metadata": {},
   "outputs": [],
   "source": [
    "import json\n",
    "import os.path as op\n",
    "from pprint import pprint\n",
    "import shutil\n",
    "import numpy\n",
    "\n",
    "import mne\n",
    "from mne.datasets import sample\n",
    "\n",
    "from mne_bids import (write_raw_bids, read_raw_bids, write_meg_calibration,\n",
    "                      write_meg_crosstalk, BIDSPath, print_dir_tree,\n",
    "                      make_dataset_description)\n",
    "from mne_bids.stats import count_events"
   ]
  },
  {
   "cell_type": "markdown",
   "metadata": {},
   "source": [
    "Now we can read the MEG data. We define an `event_id` based on our\n",
    "knowledge of the data, to give meaning to events in the data.\n",
    "\n",
    "With `raw_fname` and `events`, we determine where to get the sample data\n",
    "from. `output_path` determines where we will write the BIDS conversion to.\n",
    "\n"
   ]
  },
  {
   "cell_type": "code",
   "execution_count": 4,
   "metadata": {},
   "outputs": [],
   "source": [
    "data_path ='/Users/yngvifrey/Documents/Data_MEEG/MEEG_data/NatMEG_0177/170424/MEG'\n",
    "\n",
    "\n",
    "raw_fname = op.join(data_path,'tactile_stim_raw_tsss_mc_meg.fif')\n",
    "#er_fname = op.join(data_path, 'MEG', 'sample', 'ernoise_raw.fif')  # empty room\n",
    "#events_fname = op.join(data_path, 'MEG', 'sample', 'sample_audvis_raw-eve.fif')\n"
   ]
  },
  {
   "cell_type": "markdown",
   "metadata": {},
   "source": [
    "If your data does not conform to MNE naming conventions (all raw files should end with raw.fif, raw_sss.fif, raw_tsss.fif, _meg.fif, _eeg.fif, _ieeg.fif, raw.fif.gz, raw_sss.fif.gz, raw_tsss.fif.gz, _meg.fif.gz, _eeg.fif.gz or _ieeg.fif.gz) use following code to load and rename files:"
   ]
  },
  {
   "cell_type": "code",
   "execution_count": 7,
   "metadata": {},
   "outputs": [
    {
     "name": "stdout",
     "output_type": "stream",
     "text": [
      "Opening raw data file /Users/yngvifrey/Documents/Data_MEEG/MEEG_data/NatMEG_0177/170424/MEG/tactile_stim_raw_tsss_mc.fif...\n",
      "    Range : 126000 ... 1195999 =    126.000 ...  1195.999 secs\n",
      "Ready.\n",
      "Opening raw data file /Users/yngvifrey/Documents/Data_MEEG/MEEG_data/NatMEG_0177/170424/MEG/tactile_stim_raw_tsss_mc-1.fif...\n",
      "    Range : 1196000 ... 2265999 =   1196.000 ...  2265.999 secs\n",
      "Ready.\n",
      "Opening raw data file /Users/yngvifrey/Documents/Data_MEEG/MEEG_data/NatMEG_0177/170424/MEG/tactile_stim_raw_tsss_mc-2.fif...\n",
      "    Range : 2266000 ... 3118999 =   2266.000 ...  3118.999 secs\n",
      "Ready.\n"
     ]
    },
    {
     "name": "stderr",
     "output_type": "stream",
     "text": [
      "/var/folders/8j/2w7rdjlj5sg59_1hy83zsg3c0000gn/T/ipykernel_52924/937860091.py:2: RuntimeWarning: This filename (/Users/yngvifrey/Documents/Data_MEEG/MEEG_data/NatMEG_0177/170424/MEG/tactile_stim_raw_tsss_mc.fif) does not conform to MNE naming conventions. All raw files should end with raw.fif, raw_sss.fif, raw_tsss.fif, _meg.fif, _eeg.fif, _ieeg.fif, raw.fif.gz, raw_sss.fif.gz, raw_tsss.fif.gz, _meg.fif.gz, _eeg.fif.gz or _ieeg.fif.gz\n",
      "  raw = mne.io.read_raw(raw_fname)\n"
     ]
    },
    {
     "name": "stdout",
     "output_type": "stream",
     "text": [
      "Writing /Users/yngvifrey/Documents/Data_MEEG/MEEG_data/NatMEG_0177/170424/MEG/tactile_stim_raw_tsss_mc_meg.fif\n",
      "Overwriting existing file.\n",
      "Writing /Users/yngvifrey/Documents/Data_MEEG/MEEG_data/NatMEG_0177/170424/MEG/tactile_stim_raw_tsss_mc_meg-1.fif\n",
      "Overwriting existing file.\n",
      "Writing /Users/yngvifrey/Documents/Data_MEEG/MEEG_data/NatMEG_0177/170424/MEG/tactile_stim_raw_tsss_mc_meg-2.fif\n",
      "Closing /Users/yngvifrey/Documents/Data_MEEG/MEEG_data/NatMEG_0177/170424/MEG/tactile_stim_raw_tsss_mc_meg-2.fif\n",
      "Closing /Users/yngvifrey/Documents/Data_MEEG/MEEG_data/NatMEG_0177/170424/MEG/tactile_stim_raw_tsss_mc_meg-1.fif\n",
      "Closing /Users/yngvifrey/Documents/Data_MEEG/MEEG_data/NatMEG_0177/170424/MEG/tactile_stim_raw_tsss_mc_meg.fif\n",
      "[done]\n"
     ]
    }
   ],
   "source": [
    "# Load the original raw data file\n",
    "#raw = mne.io.read_raw(raw_fname)\n",
    "\n",
    "# Save the raw data to a new file to establish proper filename linkage\n",
    "#new_fname = '/Users/yngvifrey/Documents/Data_MEEG/MEEG_data/NatMEG_0177/170424/MEG/tactile_stim_raw_tsss_mc_meg.fif'\n",
    "#raw.save(new_fname, overwrite=True)"
   ]
  },
  {
   "cell_type": "code",
   "execution_count": 5,
   "metadata": {},
   "outputs": [],
   "source": [
    "output_path = op.join(data_path, 'BIDS')"
   ]
  },
  {
   "cell_type": "markdown",
   "metadata": {},
   "source": [
    "To ensure the output path doesn't contain any leftover files from previous\n",
    "tests and example runs, we simply delete it.\n",
    "\n",
    "<div class=\"alert alert-danger\"><h4>Warning</h4><p>Do not delete directories that may contain important data!</p></div>\n",
    "\n",
    "\n"
   ]
  },
  {
   "cell_type": "code",
   "execution_count": 6,
   "metadata": {},
   "outputs": [],
   "source": [
    "if op.exists(output_path):\n",
    "    shutil.rmtree(output_path)"
   ]
  },
  {
   "cell_type": "markdown",
   "metadata": {},
   "source": [
    "<div class=\"alert alert-info\"><h4>Note</h4><p>``mne-bids`` will try to infer as much information from the data as\n",
    "  possible to then save this data in BIDS-specific \"sidecar\" files. For\n",
    "  example the manufacturer information, which is inferred from the data file\n",
    "  extension. However, sometimes inferring is ambiguous (e.g., if your file\n",
    "  format is non-standard for the manufacturer). In these cases, MNE-BIDS does\n",
    "  *not* guess and you will have to update your BIDS fields manually.</p></div>\n",
    "\n",
    "Based on our path definitions above, we read the raw data file, define\n",
    "a new BIDS name for it, and then run the automatic BIDS conversion for both\n",
    "the experimental data and its associated empty-room recording.\n",
    "\n"
   ]
  },
  {
   "cell_type": "code",
   "execution_count": null,
   "metadata": {},
   "outputs": [
    {
     "name": "stdout",
     "output_type": "stream",
     "text": [
      "Opening raw data file /Users/yngvifrey/Documents/Data_MEEG/MEEG_data/NatMEG_0177/170424/MEG/tactile_stim_raw_tsss_mc_meg.fif...\n",
      "    Range : 126000 ... 1249999 =    126.000 ...  1249.999 secs\n",
      "Ready.\n",
      "Opening raw data file /Users/yngvifrey/Documents/Data_MEEG/MEEG_data/NatMEG_0177/170424/MEG/tactile_stim_raw_tsss_mc_meg-1.fif...\n",
      "    Range : 1250000 ... 2373999 =   1250.000 ...  2373.999 secs\n",
      "Ready.\n",
      "Opening raw data file /Users/yngvifrey/Documents/Data_MEEG/MEEG_data/NatMEG_0177/170424/MEG/tactile_stim_raw_tsss_mc_meg-2.fif...\n",
      "    Range : 2374000 ... 3118999 =   2374.000 ...  3118.999 secs\n",
      "Ready.\n",
      "Opening raw data file /Users/yngvifrey/Documents/Data_MEEG/MEEG_data/NatMEG_0177/170424/MEG/tactile_stim_raw_tsss_mc_meg.fif...\n",
      "    Range : 126000 ... 1249999 =    126.000 ...  1249.999 secs\n",
      "Ready.\n",
      "Opening raw data file /Users/yngvifrey/Documents/Data_MEEG/MEEG_data/NatMEG_0177/170424/MEG/tactile_stim_raw_tsss_mc_meg-1.fif...\n",
      "    Range : 1250000 ... 2373999 =   1250.000 ...  2373.999 secs\n",
      "Ready.\n",
      "Opening raw data file /Users/yngvifrey/Documents/Data_MEEG/MEEG_data/NatMEG_0177/170424/MEG/tactile_stim_raw_tsss_mc_meg-2.fif...\n",
      "    Range : 2374000 ... 3118999 =   2374.000 ...  3118.999 secs\n",
      "Ready.\n",
      "Writing '/Users/yngvifrey/Documents/Data_MEEG/MEEG_data/NatMEG_0177/170424/MEG/BIDS/participants.tsv'...\n",
      "Writing '/Users/yngvifrey/Documents/Data_MEEG/MEEG_data/NatMEG_0177/170424/MEG/BIDS/participants.json'...\n",
      "Writing '/Users/yngvifrey/Documents/Data_MEEG/MEEG_data/NatMEG_0177/170424/MEG/BIDS/sub-01/ses-01/meg/sub-01_ses-01_coordsystem.json'...\n",
      "Writing '/Users/yngvifrey/Documents/Data_MEEG/MEEG_data/NatMEG_0177/170424/MEG/BIDS/sub-01/ses-01/meg/sub-01_ses-01_coordsystem.json'...\n",
      "Writing '/Users/yngvifrey/Documents/Data_MEEG/MEEG_data/NatMEG_0177/170424/MEG/BIDS/dataset_description.json'...\n",
      "Using 4 HPI coils: 328 278 228 178 Hz\n"
     ]
    },
    {
     "name": "stderr",
     "output_type": "stream",
     "text": [
      "/var/folders/8j/2w7rdjlj5sg59_1hy83zsg3c0000gn/T/ipykernel_54149/3953831482.py:15: RuntimeWarning: No events found or provided. Please add annotations to the raw data, or provide the events and event_id parameters. For resting state data, BIDS recommends naming the task using labels beginning with \"rest\".\n",
      "  write_raw_bids(\n"
     ]
    }
   ],
   "source": [
    "raw = mne.io.read_raw(raw_fname)\n",
    "\n",
    "# specify power line frequency as required by BIDS\n",
    "raw.info['line_freq'] = 60\n",
    "\n",
    "\n",
    "task = 'facerecognition'\n",
    "bids_path = BIDSPath(\n",
    "    subject='01',\n",
    "    session='01',\n",
    "    task='face',\n",
    "    run='1',\n",
    "    root=output_path\n",
    ")\n",
    "write_raw_bids(\n",
    "    raw=raw,\n",
    "    bids_path=bids_path,\n",
    "    overwrite=True\n",
    ")"
   ]
  },
  {
   "cell_type": "markdown",
   "metadata": {},
   "source": [
    "Let's pause and check that the information that we've written out to the\n",
    "sidecar files that describe our data is correct.\n",
    "\n"
   ]
  },
  {
   "cell_type": "code",
   "execution_count": null,
   "metadata": {},
   "outputs": [],
   "source": [
    "# Get the sidecar ``.json`` file\n",
    "sidecar_json_bids_path = bids_path.copy().update(extension='.json')\n",
    "sidecar_json_content = sidecar_json_bids_path.fpath.read_text(\n",
    "    encoding='utf-8-sig'\n",
    ")\n",
    "print(sidecar_json_content)"
   ]
  },
  {
   "cell_type": "markdown",
   "metadata": {},
   "source": [
    "The sample MEG dataset comes with fine-calibration and crosstalk files that\n",
    "are required when processing Elekta/Neuromag/MEGIN data using MaxFilter®.\n",
    "Let's store these data in appropriate places, too.\n",
    "\n"
   ]
  },
  {
   "cell_type": "code",
   "execution_count": null,
   "metadata": {},
   "outputs": [],
   "source": [
    "cal_fname = op.join(data_path, 'SSS', 'sss_cal_mgh.dat')\n",
    "ct_fname = op.join(data_path, 'SSS', 'ct_sparse_mgh.fif')\n",
    "\n",
    "write_meg_calibration(cal_fname, bids_path)\n",
    "write_meg_crosstalk(ct_fname, bids_path)"
   ]
  },
  {
   "cell_type": "markdown",
   "metadata": {},
   "source": [
    "Now let's see the structure of the BIDS folder we created.\n",
    "\n"
   ]
  },
  {
   "cell_type": "code",
   "execution_count": null,
   "metadata": {},
   "outputs": [],
   "source": [
    "print_dir_tree(output_path)"
   ]
  },
  {
   "cell_type": "markdown",
   "metadata": {},
   "source": [
    "Now let's get an overview of the events on the whole dataset\n",
    "\n"
   ]
  },
  {
   "cell_type": "code",
   "execution_count": null,
   "metadata": {},
   "outputs": [],
   "source": [
    "counts = count_events(output_path)\n",
    "counts"
   ]
  },
  {
   "cell_type": "markdown",
   "metadata": {},
   "source": [
    "A big advantage of having data organized according to BIDS is that software\n",
    "packages can automate your workflow. For example, reading the data back\n",
    "into MNE-Python can easily be done using :func:`read_raw_bids`.\n",
    "\n"
   ]
  },
  {
   "cell_type": "code",
   "execution_count": null,
   "metadata": {},
   "outputs": [],
   "source": [
    "raw = read_raw_bids(bids_path=bids_path)"
   ]
  },
  {
   "cell_type": "markdown",
   "metadata": {},
   "source": [
    "The resulting data is already in a convenient form to create epochs and\n",
    "evoked data.\n",
    "\n"
   ]
  },
  {
   "cell_type": "code",
   "execution_count": null,
   "metadata": {},
   "outputs": [],
   "source": [
    "events, event_id = mne.events_from_annotations(raw)\n",
    "epochs = mne.Epochs(raw, events, event_id)\n",
    "epochs['Auditory'].average().plot()"
   ]
  },
  {
   "cell_type": "markdown",
   "metadata": {},
   "source": [
    "We can easily get the :class:`mne_bids.BIDSPath` of the empty-room recording\n",
    "that was associated with the experimental data while writing. The empty-room\n",
    "data can then be loaded with :func:`read_raw_bids`.\n",
    "\n"
   ]
  },
  {
   "cell_type": "code",
   "execution_count": null,
   "metadata": {},
   "outputs": [],
   "source": [
    "er_bids_path = bids_path.find_empty_room(use_sidecar_only=True)\n",
    "er_data = read_raw_bids(er_bids_path)\n",
    "er_data"
   ]
  },
  {
   "cell_type": "markdown",
   "metadata": {},
   "source": [
    "It is trivial to retrieve the path of the fine-calibration and crosstalk\n",
    "files, too.\n",
    "\n"
   ]
  },
  {
   "cell_type": "code",
   "execution_count": null,
   "metadata": {},
   "outputs": [],
   "source": [
    "print(bids_path.meg_calibration_fpath)\n",
    "print(bids_path.meg_crosstalk_fpath)"
   ]
  },
  {
   "cell_type": "markdown",
   "metadata": {},
   "source": [
    "The README created by :func:`write_raw_bids` also takes care of the citation\n",
    "for mne-bids. If you are preparing a manuscript, please make sure to also\n",
    "cite MNE-BIDS there.\n",
    "\n"
   ]
  },
  {
   "cell_type": "code",
   "execution_count": null,
   "metadata": {},
   "outputs": [],
   "source": [
    "readme = op.join(output_path, 'README')\n",
    "with open(readme, 'r', encoding='utf-8-sig') as fid:\n",
    "    text = fid.read()\n",
    "print(text)"
   ]
  },
  {
   "cell_type": "markdown",
   "metadata": {},
   "source": [
    "It is also generally a good idea to add a description of your dataset,\n",
    "see the `BIDS dataset_description.json definition`_ for more information.\n",
    "\n"
   ]
  },
  {
   "cell_type": "code",
   "execution_count": null,
   "metadata": {},
   "outputs": [],
   "source": [
    "how_to_acknowledge = \"\"\"\\\n",
    "If you reference this dataset in a publication, please acknowledge its \\\n",
    "authors and cite MNE papers: A. Gramfort, M. Luessi, E. Larson, D. Engemann, \\\n",
    "D. Strohmeier, C. Brodbeck, L. Parkkonen, M. Hämäläinen, \\\n",
    "MNE software for processing MEG and EEG data, NeuroImage, Volume 86, \\\n",
    "1 February 2014, Pages 446-460, ISSN 1053-8119 \\\n",
    "and \\\n",
    "A. Gramfort, M. Luessi, E. Larson, D. Engemann, D. Strohmeier, C. Brodbeck, \\\n",
    "R. Goj, M. Jas, T. Brooks, L. Parkkonen, M. Hämäläinen, MEG and EEG data \\\n",
    "analysis with MNE-Python, Frontiers in Neuroscience, Volume 7, 2013, \\\n",
    "ISSN 1662-453X\"\"\"\n",
    "\n",
    "make_dataset_description(\n",
    "    path=bids_path.root,\n",
    "    name=task,\n",
    "    authors=[\"Alexandre Gramfort\", \"Matti Hämäläinen\"],\n",
    "    how_to_acknowledge=how_to_acknowledge,\n",
    "    acknowledgements=\"\"\"\\\n",
    "Alexandre Gramfort, Mainak Jas, and Stefan Appelhoff prepared and updated the \\\n",
    "data in BIDS format.\"\"\",\n",
    "    data_license='CC0',\n",
    "    ethics_approvals=['Human Subjects Division at the University of Washington'],  # noqa: E501\n",
    "    funding=[\n",
    "        \"NIH 5R01EB009048\",\n",
    "        \"NIH 1R01EB009048\",\n",
    "        \"NIH R01EB006385\",\n",
    "        \"NIH 1R01HD40712\",\n",
    "        \"NIH 1R01NS44319\",\n",
    "        \"NIH 2R01NS37462\",\n",
    "        \"NIH P41EB015896\",\n",
    "        \"ANR-11-IDEX-0003-02\",\n",
    "        \"ERC-StG-263584\",\n",
    "        \"ERC-StG-676943\",\n",
    "        \"ANR-14-NEUC-0002-01\"\n",
    "    ],\n",
    "    references_and_links=[\n",
    "        \"https://doi.org/10.1016/j.neuroimage.2014.02.017\",\n",
    "        \"https://doi.org/10.3389/fnins.2013.00267\",\n",
    "        \"https://mne.tools/stable/overview/datasets_index.html#sample\"\n",
    "    ],\n",
    "    doi=\"doi:10.18112/openneuro.ds000248.v1.2.4\",\n",
    "    overwrite=True\n",
    ")\n",
    "desc_json_path = bids_path.root / 'dataset_description.json'\n",
    "with open(desc_json_path, 'r', encoding='utf-8-sig') as fid:\n",
    "    pprint(json.loads(fid.read()))"
   ]
  },
  {
   "cell_type": "markdown",
   "metadata": {},
   "source": [
    "This should be very similar to the `ds000248 dataset_description.json`_!\n",
    "\n"
   ]
  }
 ],
 "metadata": {
  "kernelspec": {
   "display_name": "Python 3 (ipykernel)",
   "language": "python",
   "name": "python3"
  },
  "language_info": {
   "codemirror_mode": {
    "name": "ipython",
    "version": 3
   },
   "file_extension": ".py",
   "mimetype": "text/x-python",
   "name": "python",
   "nbconvert_exporter": "python",
   "pygments_lexer": "ipython3",
   "version": "3.9.13"
  }
 },
 "nbformat": 4,
 "nbformat_minor": 1
}
